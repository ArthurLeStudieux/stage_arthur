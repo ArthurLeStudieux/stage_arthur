{
 "cells": [
  {
   "cell_type": "code",
   "execution_count": 40,
   "id": "c0d48420",
   "metadata": {},
   "outputs": [],
   "source": [
    "#import\n",
    "import pandas as pd\n",
    "import numpy as np\n",
    "import math \n",
    "import os \n",
    "from datetime import datetime, timedelta\n",
    "import pymap3d # python3 -m pip install pymap3d\n",
    "import random\n",
    "import pickle\n",
    "from scipy.special import lambertw\n",
    "from scipy import stats\n",
    "from IPython.display import clear_output\n",
    "import matplotlib.pyplot as plt\n",
    "%matplotlib inline\n",
    "from bokeh.plotting import figure, show, output_notebook, output_file, reset_output, save\n",
    "from bokeh.layouts import gridplot, row, column\n",
    "from bokeh.models import Range1d\n",
    "import functions #mon fichier source"
   ]
  },
  {
   "cell_type": "markdown",
   "id": "3878f952",
   "metadata": {},
   "source": [
    "### Parameters"
   ]
  },
  {
   "cell_type": "code",
   "execution_count": 59,
   "id": "d2345cc1",
   "metadata": {},
   "outputs": [],
   "source": [
    "parameters = {\n",
    "    \"dataset\": \"cabspotting\",# OPTIONS ARE: cabspotting geolife\n",
    "    \"user\": \"oilrag\",# Examples: abboip oilrag 51 90 \n",
    "    \"trajectory_index\": 0, #utile seulement pour \n",
    "    \"sol_file\": 'sol_04112022_H30',\n",
    "    \"epsilon\": 300,\n",
    "    \"horizon\": 5,\n",
    "    \"Tmin\" : 0,\n",
    "    \"Tmax\" : 5000,\n",
    "    \"sampling_time\": 30,\n",
    "    \"nbuf\": 30 #Je comprends pas trop à quoi il correspond lui\n",
    "}"
   ]
  },
  {
   "cell_type": "markdown",
   "id": "d4942329",
   "metadata": {},
   "source": [
    "### FLAIR offline"
   ]
  },
  {
   "cell_type": "code",
   "execution_count": 60,
   "id": "fec7dbe5",
   "metadata": {},
   "outputs": [],
   "source": [
    "#on FLAIRise une traj puis on regarde à quel point on se trompe"
   ]
  },
  {
   "cell_type": "code",
   "execution_count": 61,
   "id": "75f6524a",
   "metadata": {},
   "outputs": [],
   "source": [
    "def create_pdf(parameters):\n",
    "    data = read_data(parameters)\n",
    "    data = process_data(parameters, data)\n",
    "    xs, ys, bs, J, F, ts, util = data_save(data, parameters)\n",
    "    #On lance mtn l'algo d'optimisation \n",
    "    data_mpc = solve_mpc(xs, ys, bs, parameters['horizon'], parameters['nbuf'], util, J, F)\n",
    "    data_mpc_FLAIR = solve_mpc_FLAIR(xs, ys, bs, parameters['sampling_time'], parameters['horizon'], parameters['nbuf'], util, parameters['epsilon'], J, F)\n",
    "    return(data_mpc, data_mpc_FLAIR)\n",
    "    "
   ]
  },
  {
   "cell_type": "code",
   "execution_count": 62,
   "id": "3e61e895",
   "metadata": {},
   "outputs": [
    {
     "data": {
      "text/plain": [
       "<module 'functions' from 'C:\\\\Users\\\\arthu\\\\OneDrive\\\\Documents\\\\GitHub\\\\stage-arthur\\\\optimal-privacy-main\\\\functions.py'>"
      ]
     },
     "execution_count": 62,
     "metadata": {},
     "output_type": "execute_result"
    }
   ],
   "source": [
    "import functions\n",
    "import importlib \n",
    "\n",
    "importlib.reload(functions)"
   ]
  },
  {
   "cell_type": "code",
   "execution_count": 63,
   "id": "7cc431f2",
   "metadata": {},
   "outputs": [
    {
     "name": "stdout",
     "output_type": "stream",
     "text": [
      "Unexpected exception formatting exception. Falling back to standard exception\n"
     ]
    },
    {
     "name": "stderr",
     "output_type": "stream",
     "text": [
      "Traceback (most recent call last):\n",
      "  File \"C:\\Users\\arthu\\AppData\\Local\\Packages\\PythonSoftwareFoundation.Python.3.10_qbz5n2kfra8p0\\LocalCache\\local-packages\\Python310\\site-packages\\IPython\\core\\interactiveshell.py\", line 3378, in run_code\n",
      "    exec(code_obj, self.user_global_ns, self.user_ns)\n",
      "  File \"C:\\Users\\arthu\\AppData\\Local\\Temp\\ipykernel_24744\\2594617577.py\", line 1, in <module>\n",
      "    data = create_pdf(parameters)\n",
      "  File \"C:\\Users\\arthu\\AppData\\Local\\Temp\\ipykernel_24744\\4157536950.py\", line 4, in create_pdf\n",
      "    xs, ys, bs, J, F, ts, util = data_save(data, parameters)\n",
      "  File \"C:\\Users\\arthu\\OneDrive\\Documents\\GitHub\\stage-arthur\\optimal-privacy-main\\functions.py\", line 155, in data_save\n",
      "UnboundLocalError: local variable 'system' referenced before assignment\n",
      "\n",
      "During handling of the above exception, another exception occurred:\n",
      "\n",
      "Traceback (most recent call last):\n",
      "  File \"C:\\Users\\arthu\\AppData\\Local\\Packages\\PythonSoftwareFoundation.Python.3.10_qbz5n2kfra8p0\\LocalCache\\local-packages\\Python310\\site-packages\\IPython\\core\\interactiveshell.py\", line 1997, in showtraceback\n",
      "    stb = self.InteractiveTB.structured_traceback(\n",
      "  File \"C:\\Users\\arthu\\AppData\\Local\\Packages\\PythonSoftwareFoundation.Python.3.10_qbz5n2kfra8p0\\LocalCache\\local-packages\\Python310\\site-packages\\IPython\\core\\ultratb.py\", line 1112, in structured_traceback\n",
      "    return FormattedTB.structured_traceback(\n",
      "  File \"C:\\Users\\arthu\\AppData\\Local\\Packages\\PythonSoftwareFoundation.Python.3.10_qbz5n2kfra8p0\\LocalCache\\local-packages\\Python310\\site-packages\\IPython\\core\\ultratb.py\", line 1006, in structured_traceback\n",
      "    return VerboseTB.structured_traceback(\n",
      "  File \"C:\\Users\\arthu\\AppData\\Local\\Packages\\PythonSoftwareFoundation.Python.3.10_qbz5n2kfra8p0\\LocalCache\\local-packages\\Python310\\site-packages\\IPython\\core\\ultratb.py\", line 859, in structured_traceback\n",
      "    formatted_exception = self.format_exception_as_a_whole(etype, evalue, etb, number_of_lines_of_context,\n",
      "  File \"C:\\Users\\arthu\\AppData\\Local\\Packages\\PythonSoftwareFoundation.Python.3.10_qbz5n2kfra8p0\\LocalCache\\local-packages\\Python310\\site-packages\\IPython\\core\\ultratb.py\", line 812, in format_exception_as_a_whole\n",
      "    frames.append(self.format_record(r))\n",
      "  File \"C:\\Users\\arthu\\AppData\\Local\\Packages\\PythonSoftwareFoundation.Python.3.10_qbz5n2kfra8p0\\LocalCache\\local-packages\\Python310\\site-packages\\IPython\\core\\ultratb.py\", line 730, in format_record\n",
      "    result += ''.join(_format_traceback_lines(frame_info.lines, Colors, self.has_colors, lvals))\n",
      "  File \"C:\\Users\\arthu\\AppData\\Local\\Packages\\PythonSoftwareFoundation.Python.3.10_qbz5n2kfra8p0\\LocalCache\\local-packages\\Python310\\site-packages\\stack_data\\utils.py\", line 145, in cached_property_wrapper\n",
      "    value = obj.__dict__[self.func.__name__] = self.func(obj)\n",
      "  File \"C:\\Users\\arthu\\AppData\\Local\\Packages\\PythonSoftwareFoundation.Python.3.10_qbz5n2kfra8p0\\LocalCache\\local-packages\\Python310\\site-packages\\stack_data\\core.py\", line 734, in lines\n",
      "    pieces = self.included_pieces\n",
      "  File \"C:\\Users\\arthu\\AppData\\Local\\Packages\\PythonSoftwareFoundation.Python.3.10_qbz5n2kfra8p0\\LocalCache\\local-packages\\Python310\\site-packages\\stack_data\\utils.py\", line 145, in cached_property_wrapper\n",
      "    value = obj.__dict__[self.func.__name__] = self.func(obj)\n",
      "  File \"C:\\Users\\arthu\\AppData\\Local\\Packages\\PythonSoftwareFoundation.Python.3.10_qbz5n2kfra8p0\\LocalCache\\local-packages\\Python310\\site-packages\\stack_data\\core.py\", line 681, in included_pieces\n",
      "    pos = scope_pieces.index(self.executing_piece)\n",
      "  File \"C:\\Users\\arthu\\AppData\\Local\\Packages\\PythonSoftwareFoundation.Python.3.10_qbz5n2kfra8p0\\LocalCache\\local-packages\\Python310\\site-packages\\stack_data\\utils.py\", line 145, in cached_property_wrapper\n",
      "    value = obj.__dict__[self.func.__name__] = self.func(obj)\n",
      "  File \"C:\\Users\\arthu\\AppData\\Local\\Packages\\PythonSoftwareFoundation.Python.3.10_qbz5n2kfra8p0\\LocalCache\\local-packages\\Python310\\site-packages\\stack_data\\core.py\", line 660, in executing_piece\n",
      "    return only(\n",
      "  File \"C:\\Users\\arthu\\AppData\\Local\\Packages\\PythonSoftwareFoundation.Python.3.10_qbz5n2kfra8p0\\LocalCache\\local-packages\\Python310\\site-packages\\executing\\executing.py\", line 168, in only\n",
      "    raise NotOneValueFound('Expected one value, found 0')\n",
      "executing.executing.NotOneValueFound: Expected one value, found 0\n"
     ]
    }
   ],
   "source": [
    "data = create_pdf(parameters)"
   ]
  },
  {
   "cell_type": "code",
   "execution_count": 9,
   "id": "d2a6ed02",
   "metadata": {},
   "outputs": [
    {
     "name": "stdout",
     "output_type": "stream",
     "text": [
      "4772.0\n"
     ]
    }
   ],
   "source": [
    "data = read_data(parameters)\n",
    "data = process_data(parameters, data)\n",
    "Tmin, Tmax = parameters[\"Tmin\"], parameters[\"Tmax\"]\n",
    "xr = data['x'][(data['elapsedtime'] >= Tmin) & (data['elapsedtime'] < Tmax)]\n",
    "yr = data['y'][(data['elapsedtime'] >= Tmin) & (data['elapsedtime'] < Tmax)]\n",
    "ur = data['u_enu'][(data['elapsedtime'] >= Tmin) & (data['elapsedtime'] < Tmax)]\n",
    "Timer = data['elapsedtime'][(data['elapsedtime'] >= Tmin) & (data['elapsedtime'] < Tmax)]\n",
    "data_timed = data[(data['elapsedtime'] >= Tmin) & (data['elapsedtime'] < Tmax)]\n",
    "ts = parameters['sampling_time']  # Sampling time\n",
    "tmax = Timer.iloc[-1]  # Final time \n",
    "print(Timer.iloc[-1])"
   ]
  },
  {
   "cell_type": "code",
   "execution_count": 33,
   "id": "453e9f1a",
   "metadata": {},
   "outputs": [
    {
     "ename": "AttributeError",
     "evalue": "'builtin_function_or_method' object has no attribute 'random'",
     "output_type": "error",
     "traceback": [
      "\u001b[1;31m---------------------------------------------------------------------------\u001b[0m",
      "\u001b[1;31mAttributeError\u001b[0m                            Traceback (most recent call last)",
      "Cell \u001b[1;32mIn [33], line 1\u001b[0m\n\u001b[1;32m----> 1\u001b[0m \u001b[43mrandom\u001b[49m\u001b[38;5;241;43m.\u001b[39;49m\u001b[43mrandom\u001b[49m\n",
      "\u001b[1;31mAttributeError\u001b[0m: 'builtin_function_or_method' object has no attribute 'random'"
     ]
    }
   ],
   "source": [
    "random.random"
   ]
  },
  {
   "cell_type": "code",
   "execution_count": null,
   "id": "2f1fff3c",
   "metadata": {},
   "outputs": [],
   "source": []
  }
 ],
 "metadata": {
  "kernelspec": {
   "display_name": "optimal-privacy",
   "language": "python",
   "name": "optimal-privacy"
  },
  "language_info": {
   "codemirror_mode": {
    "name": "ipython",
    "version": 3
   },
   "file_extension": ".py",
   "mimetype": "text/x-python",
   "name": "python",
   "nbconvert_exporter": "python",
   "pygments_lexer": "ipython3",
   "version": "3.10.11"
  }
 },
 "nbformat": 4,
 "nbformat_minor": 5
}
